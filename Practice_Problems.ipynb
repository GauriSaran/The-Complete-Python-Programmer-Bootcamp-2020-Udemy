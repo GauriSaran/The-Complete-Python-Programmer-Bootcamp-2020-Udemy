{
 "cells": [
  {
   "cell_type": "markdown",
   "metadata": {},
   "source": [
    "## PEP8 is the official style guide for Python explaining how naming conventions should take place, etc"
   ]
  },
  {
   "cell_type": "code",
   "execution_count": 60,
   "metadata": {},
   "outputs": [
    {
     "name": "stdout",
     "output_type": "stream",
     "text": [
      "One, 'two', \"three\", four,\n",
      "\\five\\once, 'I' caught a\n",
      "\tfish'//alive\\\\' \n"
     ]
    }
   ],
   "source": [
    "print('''One, 'two', \"three\", four,\\n\\\\five\\\\once, 'I' caught a\\n\\tfish'//alive\\\\\\\\' ''')"
   ]
  },
  {
   "cell_type": "code",
   "execution_count": 2,
   "metadata": {},
   "outputs": [
    {
     "name": "stdout",
     "output_type": "stream",
     "text": [
      "\n",
      "Welcome to Python 3.7's help utility!\n",
      "\n",
      "If this is your first time using Python, you should definitely check out\n",
      "the tutorial on the Internet at https://docs.python.org/3.7/tutorial/.\n",
      "\n",
      "Enter the name of any module, keyword, or topic to get help on writing\n",
      "Python programs and using Python modules.  To quit this help utility and\n",
      "return to the interpreter, just type \"quit\".\n",
      "\n",
      "To get a list of available modules, keywords, symbols, or topics, type\n",
      "\"modules\", \"keywords\", \"symbols\", or \"topics\".  Each module also comes\n",
      "with a one-line summary of what it does; to list the modules whose name\n",
      "or summary contain a given string such as \"spam\", type \"modules spam\".\n",
      "\n",
      "help> keywords\n",
      "\n",
      "Here is a list of the Python keywords.  Enter any keyword to get more help.\n",
      "\n",
      "False               class               from                or\n",
      "None                continue            global              pass\n",
      "True                def                 if                  raise\n",
      "and                 del                 import              return\n",
      "as                  elif                in                  try\n",
      "assert              else                is                  while\n",
      "async               except              lambda              with\n",
      "await               finally             nonlocal            yield\n",
      "break               for                 not                 \n",
      "\n",
      "help> quit\n",
      "\n",
      "You are now leaving help and returning to the Python interpreter.\n",
      "If you want to ask for help on a particular object directly from the\n",
      "interpreter, you can type \"help(object)\".  Executing \"help('string')\"\n",
      "has the same effect as typing a particular string at the help> prompt.\n"
     ]
    }
   ],
   "source": [
    "help()"
   ]
  },
  {
   "cell_type": "code",
   "execution_count": 5,
   "metadata": {},
   "outputs": [
    {
     "name": "stdout",
     "output_type": "stream",
     "text": [
      "Enter radius of the circle\n",
      ">>>2\n",
      "12.57\n"
     ]
    }
   ],
   "source": [
    "import math as m\n",
    "#Ask user to enter radius of circle and print area\n",
    "radius = float(input('Enter radius of the circle\\n>>>'))\n",
    "pi = m.pi\n",
    "area = pi * radius**2\n",
    "print('%.2f'%area)"
   ]
  },
  {
   "cell_type": "code",
   "execution_count": 7,
   "metadata": {},
   "outputs": [
    {
     "name": "stdout",
     "output_type": "stream",
     "text": [
      "Enter temperature in Celsius\n",
      ">>>66\n",
      "18.89\n"
     ]
    }
   ],
   "source": [
    "#Convert Farenheit to Celsius\n",
    "far = float(input('Enter temperature in Celsius\\n>>>'))\n",
    "cel = (far-32) * (5/9)\n",
    "print('%.2f'%cel)"
   ]
  },
  {
   "cell_type": "markdown",
   "metadata": {},
   "source": [
    "## PROBLEM\n",
    "Bob, Anne, Jane and Ashwin want to order pizza, they know they each will eat 4 slices of pizza. The local pizza shop sells pizzas of only 6 slices. What is the minimum number of pizzas needed?\n",
    "#### Use floor Division"
   ]
  },
  {
   "cell_type": "code",
   "execution_count": 8,
   "metadata": {},
   "outputs": [],
   "source": [
    "total_slices = 4*4\n",
    "number_of_pizzas = (total_slices + 5)//6"
   ]
  },
  {
   "cell_type": "code",
   "execution_count": 9,
   "metadata": {},
   "outputs": [],
   "source": [
    "slices_left = number_of_pizzas*6 - total_slices"
   ]
  },
  {
   "cell_type": "code",
   "execution_count": 11,
   "metadata": {},
   "outputs": [
    {
     "name": "stdout",
     "output_type": "stream",
     "text": [
      "Number of pizza required is 3 and there will be 2 slices remaining\n"
     ]
    }
   ],
   "source": [
    "print('Number of pizza required is ' + str(number_of_pizzas) + ' and there will be ' + str(slices_left) + ' slices remaining' )"
   ]
  },
  {
   "cell_type": "markdown",
   "metadata": {},
   "source": [
    "Ask the user to enter a number between One and Five and convert it into a integer based on the number they entered:"
   ]
  },
  {
   "cell_type": "code",
   "execution_count": 15,
   "metadata": {},
   "outputs": [
    {
     "name": "stdout",
     "output_type": "stream",
     "text": [
      "Enter a number in characters between One and Five: Three\n",
      "The number is  3\n"
     ]
    }
   ],
   "source": [
    "input_num = input('Enter a number in characters between One and Five: ')\n",
    "input_num = input_num.lower()\n",
    "if input_num == 'one':\n",
    "    print('The number is ', 1)\n",
    "elif input_num == 'two':\n",
    "    print('The number is ', 2)\n",
    "elif input_num == 'three':\n",
    "    print('The number is ', 3)\n",
    "elif input_num == 'four':\n",
    "    print('The number is ', 4)\n",
    "elif input_num == 'five':\n",
    "    print('The number is ', 5)\n",
    "else:\n",
    "    print('The number is out of range')"
   ]
  },
  {
   "cell_type": "markdown",
   "metadata": {},
   "source": [
    "Create a variable containing an integer between 1 and 10 inclusive. Ask the user to guess the number. IF they guess too high or too low, then let the user know that they have not won and give them the reason. If the guess the correct number then let them know that they have won."
   ]
  },
  {
   "cell_type": "code",
   "execution_count": 20,
   "metadata": {},
   "outputs": [
    {
     "name": "stdout",
     "output_type": "stream",
     "text": [
      "Enter a number between 1 and 10 > 9\n",
      "You have guessed too high and Not won\n"
     ]
    }
   ],
   "source": [
    "guess_num = 3\n",
    "guess = input('Enter a number between 1 and 10 > ')\n",
    "if guess.isdigit():\n",
    "    guess = int(guess)\n",
    "    if guess == guess_num:\n",
    "        print('You have won!')\n",
    "    elif guess > guess_num and guess <=10:\n",
    "        print('You have guessed too high and Not won')\n",
    "    elif guess < guess_num and guess >= 1:\n",
    "        print('You have guessed too low and Not won')\n",
    "    else:\n",
    "        print('Out of Range')\n",
    "else:\n",
    "    print('This is not even an integer')"
   ]
  },
  {
   "cell_type": "markdown",
   "metadata": {},
   "source": [
    "Ask the User to input their name. Check the length of their name. If it is greater than 5 characters long, write a message telling them how many characters it contains otherwise write a message saying that the length of their name is secret"
   ]
  },
  {
   "cell_type": "code",
   "execution_count": 22,
   "metadata": {},
   "outputs": [
    {
     "name": "stdout",
     "output_type": "stream",
     "text": [
      "Enter your name: GauriPriya\n",
      "The length of  your name is  10\n"
     ]
    }
   ],
   "source": [
    "username = input('Enter your name: ')\n",
    "length_of_name = len(username)\n",
    "if length_of_name > 5:\n",
    "    print('The length of  your name is ', length_of_name)\n",
    "else:\n",
    "    print('The length of your name is secret')"
   ]
  },
  {
   "cell_type": "markdown",
   "metadata": {},
   "source": [
    "Ask the user to enter two integers between 1 and 20. If they are both greater than 15, then return their product. IF only one is greater than 15, then return their sum, if neither are greater than 15, then return Zero."
   ]
  },
  {
   "cell_type": "code",
   "execution_count": 25,
   "metadata": {},
   "outputs": [
    {
     "name": "stdout",
     "output_type": "stream",
     "text": [
      "Enter a number between 1 and 20 >\n",
      " 18\n",
      "Enter a number between 1 and 20 >\n",
      " 4\n",
      "22\n",
      "Out of Range: Please Enter a number between 1 and 20\n"
     ]
    }
   ],
   "source": [
    "user_input1 = input('Enter a number between 1 and 20 >\\n ')\n",
    "user_input2 = input('Enter a number between 1 and 20 >\\n ')\n",
    "if user_input1.isdigit() and user_input2.isdigit():\n",
    "    user_input1 = int(user_input1)\n",
    "    user_input2 = int(user_input2)\n",
    "    if (user_input1 >= 1 and user_input1 <=20) and (user_input2 >= 1 and user_input2 <=20):\n",
    "        if user_input1 > 15 and user_input2 >15:\n",
    "            print(user_input1*user_input2)\n",
    "        elif user_input1 > 15 and user_input2 <15:\n",
    "            print(user_input1+user_input2)\n",
    "        elif user_input1 <15 and user_input2 > 15:\n",
    "            print(user_input1 + user_input2)\n",
    "        else:\n",
    "            print(0)\n",
    "    print('Out of Range: Please Enter a number between 1 and 20')\n",
    "else:\n",
    "    print('Please Enter a valid integer')"
   ]
  },
  {
   "cell_type": "markdown",
   "metadata": {},
   "source": [
    "Ask the user to enter two numbers and store them in to two variables. Then swap the content of the two variables."
   ]
  },
  {
   "cell_type": "code",
   "execution_count": 31,
   "metadata": {},
   "outputs": [
    {
     "name": "stdout",
     "output_type": "stream",
     "text": [
      "Enter some number: 5\n",
      "Enter some number: 66\n",
      "Before swapping, the numbers entered are 5 66\n",
      "After swapping, the numbers entered are 66 5\n"
     ]
    }
   ],
   "source": [
    "num1 = int(input('Enter some number: '))\n",
    "num2 = int(input('Enter some number: '))\n",
    "print('Before swapping, the numbers entered are', num1, num2, sep = ' ')\n",
    "num1, num2 = num2, num1\n",
    "print('After swapping, the numbers entered are', num1, num2, sep = ' ')"
   ]
  },
  {
   "cell_type": "code",
   "execution_count": 26,
   "metadata": {},
   "outputs": [
    {
     "data": {
      "text/plain": [
       "True"
      ]
     },
     "execution_count": 26,
     "metadata": {},
     "output_type": "execute_result"
    }
   ],
   "source": [
    "s = 'FREE'\n",
    "s.isalpha()"
   ]
  },
  {
   "cell_type": "code",
   "execution_count": 32,
   "metadata": {},
   "outputs": [
    {
     "data": {
      "text/plain": [
       "True"
      ]
     },
     "execution_count": 32,
     "metadata": {},
     "output_type": "execute_result"
    }
   ],
   "source": [
    "isinstance(s, str)"
   ]
  },
  {
   "cell_type": "markdown",
   "metadata": {},
   "source": [
    "#### To Print the maximum value of a list:"
   ]
  },
  {
   "cell_type": "code",
   "execution_count": 33,
   "metadata": {},
   "outputs": [
    {
     "name": "stdout",
     "output_type": "stream",
     "text": [
      "The maximum number in the list is  67\n"
     ]
    }
   ],
   "source": [
    "lst = [34,55,67,24]\n",
    "find_max = 0\n",
    "for num in lst:\n",
    "    if num > find_max:\n",
    "        find_max = num\n",
    "print('The maximum number in the list is ', find_max)"
   ]
  },
  {
   "cell_type": "code",
   "execution_count": 34,
   "metadata": {},
   "outputs": [
    {
     "data": {
      "text/plain": [
       "67"
      ]
     },
     "execution_count": 34,
     "metadata": {},
     "output_type": "execute_result"
    }
   ],
   "source": [
    "max(lst)"
   ]
  },
  {
   "cell_type": "code",
   "execution_count": 35,
   "metadata": {},
   "outputs": [
    {
     "data": {
      "text/plain": [
       "180"
      ]
     },
     "execution_count": 35,
     "metadata": {},
     "output_type": "execute_result"
    }
   ],
   "source": [
    "sum(lst)"
   ]
  },
  {
   "cell_type": "markdown",
   "metadata": {},
   "source": [
    "## BUBBLE SORT:"
   ]
  },
  {
   "cell_type": "code",
   "execution_count": 36,
   "metadata": {},
   "outputs": [
    {
     "data": {
      "text/plain": [
       "[25, 52, 56, 64, 83, 86, 98, 105]"
      ]
     },
     "execution_count": 36,
     "metadata": {},
     "output_type": "execute_result"
    }
   ],
   "source": [
    "list_num = [56,105,25,98,52,83,64,86]\n",
    "for i in range(len(list_num)):\n",
    "    for j in range(0,len(list_num)-i-1):\n",
    "        if list_num[j] > list_num[j+1]:\n",
    "            list_num[j],list_num[j+1]= list_num[j+1], list_num[j]\n",
    "list_num"
   ]
  },
  {
   "cell_type": "code",
   "execution_count": 37,
   "metadata": {},
   "outputs": [
    {
     "data": {
      "text/plain": [
       "[2, 10, 22, 45, 56, 89]"
      ]
     },
     "execution_count": 37,
     "metadata": {},
     "output_type": "execute_result"
    }
   ],
   "source": [
    "my_list = [22,89,56,45,10,2]\n",
    "sorted(my_list)"
   ]
  },
  {
   "cell_type": "code",
   "execution_count": 38,
   "metadata": {},
   "outputs": [
    {
     "data": {
      "text/plain": [
       "[22, 89, 56, 45, 10, 2]"
      ]
     },
     "execution_count": 38,
     "metadata": {},
     "output_type": "execute_result"
    }
   ],
   "source": [
    "my_list"
   ]
  },
  {
   "cell_type": "code",
   "execution_count": 39,
   "metadata": {},
   "outputs": [],
   "source": [
    "my_list.sort()"
   ]
  },
  {
   "cell_type": "code",
   "execution_count": 40,
   "metadata": {},
   "outputs": [
    {
     "data": {
      "text/plain": [
       "[2, 10, 22, 45, 56, 89]"
      ]
     },
     "execution_count": 40,
     "metadata": {},
     "output_type": "execute_result"
    }
   ],
   "source": [
    "my_list"
   ]
  },
  {
   "cell_type": "code",
   "execution_count": 41,
   "metadata": {},
   "outputs": [],
   "source": [
    "my_list.insert(4,56)"
   ]
  },
  {
   "cell_type": "code",
   "execution_count": 42,
   "metadata": {},
   "outputs": [
    {
     "data": {
      "text/plain": [
       "[2, 10, 22, 45, 56, 56, 89]"
      ]
     },
     "execution_count": 42,
     "metadata": {},
     "output_type": "execute_result"
    }
   ],
   "source": [
    "my_list"
   ]
  },
  {
   "cell_type": "code",
   "execution_count": 45,
   "metadata": {},
   "outputs": [
    {
     "name": "stdout",
     "output_type": "stream",
     "text": [
      "The value of g is 9.55\n"
     ]
    }
   ],
   "source": [
    "g = 9.5454343\n",
    "print(f'The value of g is {g:.2f}')"
   ]
  },
  {
   "cell_type": "markdown",
   "metadata": {},
   "source": [
    "# Problem:\n",
    "Ask the user for two  different numbers between 1 and 100. Then count from lower number to the higher number and print the numbers on the screen."
   ]
  },
  {
   "cell_type": "code",
   "execution_count": 47,
   "metadata": {},
   "outputs": [
    {
     "name": "stdout",
     "output_type": "stream",
     "text": [
      "Enter first number between 1 and 100: 15\n",
      "Enter Second number between 1 and 100: 22\n",
      "15 16 17 18 19 20 21 22 "
     ]
    }
   ],
   "source": [
    "num1 = int(input('Enter first number between 1 and 100: '))\n",
    "num2 = int(input('Enter Second number between 1 and 100: '))\n",
    "while num1 < 0 or num2 <0 or num1 > 100 or num2 >100 or num1 == num2:\n",
    "    print('Please enter two different numbers between 1 and 100')\n",
    "    num1 = int(input('Enter first number between 1 and 100: '))\n",
    "    num2 = int(input('Enter Second number between 1 and 100: '))\n",
    "if num1<num2:\n",
    "    for i in range(num1, num2+1):\n",
    "        print(i, end = ' ')\n",
    "else:\n",
    "    for i in range(num2, num1+1):\n",
    "        print(i, end = ' ')"
   ]
  },
  {
   "cell_type": "markdown",
   "metadata": {},
   "source": [
    "#### Ask the user to enter a string and then print it in reverse order"
   ]
  },
  {
   "cell_type": "code",
   "execution_count": 3,
   "metadata": {},
   "outputs": [
    {
     "name": "stdout",
     "output_type": "stream",
     "text": [
      "Enter some string of characters: word\n",
      "drow\n",
      "drow\n"
     ]
    }
   ],
   "source": [
    "input_string = input('Enter some string of characters: ')\n",
    "reverse_string = ''\n",
    "for char in range(len(input_string)):\n",
    "    reverse_string = input_string[char] + reverse_string\n",
    "print(reverse_string)\n",
    "print(input_string[::-1])\n",
    "    "
   ]
  },
  {
   "cell_type": "markdown",
   "metadata": {},
   "source": [
    "### Ask the user for a number between 1 and 12 and print the time table for that number?"
   ]
  },
  {
   "cell_type": "code",
   "execution_count": 3,
   "metadata": {},
   "outputs": [
    {
     "name": "stdout",
     "output_type": "stream",
     "text": [
      "Please enter a number between 1 and 12 > 5\n",
      "============================\n",
      "\n",
      "This is the 5 time table\n",
      "\n",
      "1 * 5 = 5\n",
      "2 * 5 = 10\n",
      "3 * 5 = 15\n",
      "4 * 5 = 20\n",
      "5 * 5 = 25\n",
      "6 * 5 = 30\n",
      "7 * 5 = 35\n",
      "8 * 5 = 40\n",
      "9 * 5 = 45\n",
      "10 * 5 = 50\n",
      "11 * 5 = 55\n",
      "12 * 5 = 60\n"
     ]
    }
   ],
   "source": [
    "user_num = input('Please enter a number between 1 and 12 > ')\n",
    "\n",
    "while not user_num.isdigit() or int(user_num) <1 or int(user_num) > 12:\n",
    "    print('Please enter a Valid integer between 1 and 12')\n",
    "    user_num = input('Please enter a valid number between 1 and 12 > ')\n",
    "user_num = int(user_num)\n",
    "print('============================')\n",
    "print()\n",
    "print(f'This is the {user_num} time table')\n",
    "print()\n",
    "for i in range(1,13):\n",
    "    print(f'{i} * {user_num} = {i*user_num}')"
   ]
  },
  {
   "cell_type": "markdown",
   "metadata": {},
   "source": [
    "### Can you ammend the above solution so that it print out all time table between 1 and 12 without asking for user input"
   ]
  },
  {
   "cell_type": "code",
   "execution_count": 7,
   "metadata": {},
   "outputs": [
    {
     "name": "stdout",
     "output_type": "stream",
     "text": [
      "\n",
      "========================================\n",
      "The time table for 1:\n",
      "1*1 = 1\n",
      "1*2 = 2\n",
      "1*3 = 3\n",
      "1*4 = 4\n",
      "1*5 = 5\n",
      "1*6 = 6\n",
      "1*7 = 7\n",
      "1*8 = 8\n",
      "1*9 = 9\n",
      "1*10 = 10\n",
      "1*11 = 11\n",
      "1*12 = 12\n",
      "\n",
      "========================================\n",
      "The time table for 2:\n",
      "2*1 = 2\n",
      "2*2 = 4\n",
      "2*3 = 6\n",
      "2*4 = 8\n",
      "2*5 = 10\n",
      "2*6 = 12\n",
      "2*7 = 14\n",
      "2*8 = 16\n",
      "2*9 = 18\n",
      "2*10 = 20\n",
      "2*11 = 22\n",
      "2*12 = 24\n",
      "\n",
      "========================================\n",
      "The time table for 3:\n",
      "3*1 = 3\n",
      "3*2 = 6\n",
      "3*3 = 9\n",
      "3*4 = 12\n",
      "3*5 = 15\n",
      "3*6 = 18\n",
      "3*7 = 21\n",
      "3*8 = 24\n",
      "3*9 = 27\n",
      "3*10 = 30\n",
      "3*11 = 33\n",
      "3*12 = 36\n",
      "\n",
      "========================================\n",
      "The time table for 4:\n",
      "4*1 = 4\n",
      "4*2 = 8\n",
      "4*3 = 12\n",
      "4*4 = 16\n",
      "4*5 = 20\n",
      "4*6 = 24\n",
      "4*7 = 28\n",
      "4*8 = 32\n",
      "4*9 = 36\n",
      "4*10 = 40\n",
      "4*11 = 44\n",
      "4*12 = 48\n",
      "\n",
      "========================================\n",
      "The time table for 5:\n",
      "5*1 = 5\n",
      "5*2 = 10\n",
      "5*3 = 15\n",
      "5*4 = 20\n",
      "5*5 = 25\n",
      "5*6 = 30\n",
      "5*7 = 35\n",
      "5*8 = 40\n",
      "5*9 = 45\n",
      "5*10 = 50\n",
      "5*11 = 55\n",
      "5*12 = 60\n",
      "\n",
      "========================================\n",
      "The time table for 6:\n",
      "6*1 = 6\n",
      "6*2 = 12\n",
      "6*3 = 18\n",
      "6*4 = 24\n",
      "6*5 = 30\n",
      "6*6 = 36\n",
      "6*7 = 42\n",
      "6*8 = 48\n",
      "6*9 = 54\n",
      "6*10 = 60\n",
      "6*11 = 66\n",
      "6*12 = 72\n",
      "\n",
      "========================================\n",
      "The time table for 7:\n",
      "7*1 = 7\n",
      "7*2 = 14\n",
      "7*3 = 21\n",
      "7*4 = 28\n",
      "7*5 = 35\n",
      "7*6 = 42\n",
      "7*7 = 49\n",
      "7*8 = 56\n",
      "7*9 = 63\n",
      "7*10 = 70\n",
      "7*11 = 77\n",
      "7*12 = 84\n",
      "\n",
      "========================================\n",
      "The time table for 8:\n",
      "8*1 = 8\n",
      "8*2 = 16\n",
      "8*3 = 24\n",
      "8*4 = 32\n",
      "8*5 = 40\n",
      "8*6 = 48\n",
      "8*7 = 56\n",
      "8*8 = 64\n",
      "8*9 = 72\n",
      "8*10 = 80\n",
      "8*11 = 88\n",
      "8*12 = 96\n",
      "\n",
      "========================================\n",
      "The time table for 9:\n",
      "9*1 = 9\n",
      "9*2 = 18\n",
      "9*3 = 27\n",
      "9*4 = 36\n",
      "9*5 = 45\n",
      "9*6 = 54\n",
      "9*7 = 63\n",
      "9*8 = 72\n",
      "9*9 = 81\n",
      "9*10 = 90\n",
      "9*11 = 99\n",
      "9*12 = 108\n",
      "\n",
      "========================================\n",
      "The time table for 10:\n",
      "10*1 = 10\n",
      "10*2 = 20\n",
      "10*3 = 30\n",
      "10*4 = 40\n",
      "10*5 = 50\n",
      "10*6 = 60\n",
      "10*7 = 70\n",
      "10*8 = 80\n",
      "10*9 = 90\n",
      "10*10 = 100\n",
      "10*11 = 110\n",
      "10*12 = 120\n",
      "\n",
      "========================================\n",
      "The time table for 11:\n",
      "11*1 = 11\n",
      "11*2 = 22\n",
      "11*3 = 33\n",
      "11*4 = 44\n",
      "11*5 = 55\n",
      "11*6 = 66\n",
      "11*7 = 77\n",
      "11*8 = 88\n",
      "11*9 = 99\n",
      "11*10 = 110\n",
      "11*11 = 121\n",
      "11*12 = 132\n",
      "\n",
      "========================================\n",
      "The time table for 12:\n",
      "12*1 = 12\n",
      "12*2 = 24\n",
      "12*3 = 36\n",
      "12*4 = 48\n",
      "12*5 = 60\n",
      "12*6 = 72\n",
      "12*7 = 84\n",
      "12*8 = 96\n",
      "12*9 = 108\n",
      "12*10 = 120\n",
      "12*11 = 132\n",
      "12*12 = 144\n"
     ]
    }
   ],
   "source": [
    "for i in range(1,13):\n",
    "    print()\n",
    "    print('========================================')\n",
    "    print(f'The time table for {i}:')\n",
    "    for j in range(1,13):\n",
    "        print(f'{i}*{j} = {i*j}')"
   ]
  },
  {
   "cell_type": "code",
   "execution_count": 9,
   "metadata": {},
   "outputs": [
    {
     "data": {
      "text/plain": [
       "True"
      ]
     },
     "execution_count": 9,
     "metadata": {},
     "output_type": "execute_result"
    }
   ],
   "source": [
    "a = 2\n",
    "isinstance(a, int)"
   ]
  },
  {
   "cell_type": "markdown",
   "metadata": {},
   "source": [
    "### Ask the user to input a sequence of numbers and then calculate the mean. Ask user to enter exit to stop"
   ]
  },
  {
   "cell_type": "code",
   "execution_count": 5,
   "metadata": {},
   "outputs": [
    {
     "name": "stdout",
     "output_type": "stream",
     "text": [
      "Please Enter a number or enter exit to stop:5\n",
      "\n",
      "Please enter a number or enter exit to stop:5\n",
      "Please enter a number or enter exit to stop:5\n",
      "Please enter a number or enter exit to stop:exit\n",
      "\n",
      "The mean of the number is 5.0\n"
     ]
    }
   ],
   "source": [
    "user_input = input('Please Enter a number or enter exit to stop:')\n",
    "print()\n",
    "sequence = []\n",
    "while user_input.lower() != 'exit':\n",
    "    while not user_input.isdigit():\n",
    "        print('Please enter a valid integer number')\n",
    "        user_input = input('Please enter a valid number: ')\n",
    "    user_input = int(user_input)\n",
    "    sequence.append(user_input)\n",
    "    user_input = input('Please enter a number or enter exit to stop:')\n",
    "    \n",
    "print()\n",
    "mean = sum(sequence)/len(sequence)\n",
    "print(f'The mean of the number is {mean}')"
   ]
  },
  {
   "cell_type": "code",
   "execution_count": 1,
   "metadata": {},
   "outputs": [
    {
     "data": {
      "text/plain": [
       "True"
      ]
     },
     "execution_count": 1,
     "metadata": {},
     "output_type": "execute_result"
    }
   ],
   "source": [
    "a = '2'\n",
    "a.isdigit()"
   ]
  },
  {
   "cell_type": "markdown",
   "metadata": {},
   "source": [
    "### Write a code that will calculate 15 factorial. Factorial is the product of positive integers up to a given number:"
   ]
  },
  {
   "cell_type": "code",
   "execution_count": 6,
   "metadata": {},
   "outputs": [
    {
     "name": "stdout",
     "output_type": "stream",
     "text": [
      "The factorial of 15 is 1307674368000\n"
     ]
    }
   ],
   "source": [
    "n = 15\n",
    "factorial = 1\n",
    "for i in range(1, n+1):\n",
    "    factorial *=i\n",
    "print(f'The factorial of {n} is {factorial}')"
   ]
  },
  {
   "cell_type": "markdown",
   "metadata": {},
   "source": [
    "# Fibonacci numbers\n",
    "### Write a code to to calculate fibonacci numbers. Create a list containing first 20 Fibonacci numbers, (Fib numbers made by sum of preceeding two numbers in the sequence.\n",
    "### Example: 0 1 1 2 3 5 7 9...."
   ]
  },
  {
   "cell_type": "code",
   "execution_count": 7,
   "metadata": {},
   "outputs": [
    {
     "name": "stdout",
     "output_type": "stream",
     "text": [
      "The first 20 fibonacci numbers are [0, 1, 1, 2, 3, 5, 8, 13, 21, 34, 55, 89, 144, 233, 377, 610, 987, 1597, 2584, 4181]\n"
     ]
    }
   ],
   "source": [
    "n = 20\n",
    "a = 0\n",
    "b = 1\n",
    "fib = []\n",
    "for i in range(n):\n",
    "    fib.append(a)\n",
    "    a,b = b, a+b\n",
    "print(f'The first {n} fibonacci numbers are {fib}')"
   ]
  },
  {
   "cell_type": "markdown",
   "metadata": {},
   "source": [
    "## Print this design pattern:"
   ]
  },
  {
   "cell_type": "code",
   "execution_count": 10,
   "metadata": {},
   "outputs": [
    {
     "name": "stdout",
     "output_type": "stream",
     "text": [
      "*****\n",
      "*\n",
      "****\n",
      "*\n",
      "*\n",
      "*\n"
     ]
    }
   ],
   "source": [
    "for i in range(1,7):\n",
    "    for j in range(1,6):\n",
    "        if i==1 and j <6:\n",
    "            print('*'*1, end = '')\n",
    "        if i == 2 and j == 1:\n",
    "            print()\n",
    "            print('*'*j)\n",
    "        if i == 3 and j < 5:\n",
    "            print('*'*1, end = '')\n",
    "        if i == 4 and j == 1:\n",
    "            print()\n",
    "            print('*'*j)\n",
    "        if i == 5 and j == 1:\n",
    "            print('*'*j)\n",
    "        if i == 6 and j == 1:\n",
    "            print('*'*j)"
   ]
  },
  {
   "cell_type": "markdown",
   "metadata": {},
   "source": [
    "## Write a code that will determine all odd and even numbers between 1 and 100. Put all the odd numbers in a list named odd and all the even numbers in a list named even."
   ]
  },
  {
   "cell_type": "code",
   "execution_count": 14,
   "metadata": {},
   "outputs": [
    {
     "name": "stdout",
     "output_type": "stream",
     "text": [
      "The list of odd numbers are [1, 3, 5, 7, 9, 11, 13, 15, 17, 19, 21, 23, 25, 27, 29, 31, 33, 35, 37, 39, 41, 43, 45, 47, 49, 51, 53, 55, 57, 59, 61, 63, 65, 67, 69, 71, 73, 75, 77, 79, 81, 83, 85, 87, 89, 91, 93, 95, 97, 99]\n",
      "\n",
      "\n",
      "========================================================\n",
      "The list of even numbers are [2, 4, 6, 8, 10, 12, 14, 16, 18, 20, 22, 24, 26, 28, 30, 32, 34, 36, 38, 40, 42, 44, 46, 48, 50, 52, 54, 56, 58, 60, 62, 64, 66, 68, 70, 72, 74, 76, 78, 80, 82, 84, 86, 88, 90, 92, 94, 96, 98, 100]\n"
     ]
    }
   ],
   "source": [
    "odd = []\n",
    "even = []\n",
    "for i in range(1, 101):\n",
    "    if i % 2 == 0:\n",
    "        even.append(i)\n",
    "    else:\n",
    "        odd.append(i)\n",
    "print(f'The list of odd numbers are {odd}')\n",
    "print()\n",
    "print()\n",
    "print('========================================================')\n",
    "print(f'The list of even numbers are {even}')"
   ]
  },
  {
   "cell_type": "markdown",
   "metadata": {},
   "source": [
    "# Use Dictionary to count the number of words from a string:"
   ]
  },
  {
   "cell_type": "code",
   "execution_count": 15,
   "metadata": {},
   "outputs": [
    {
     "data": {
      "text/plain": [
       "{'P': 1,\n",
       " 'y': 2,\n",
       " 't': 4,\n",
       " 'h': 1,\n",
       " 'o': 6,\n",
       " 'n': 6,\n",
       " ' ': 24,\n",
       " 'i': 5,\n",
       " 's': 7,\n",
       " 'a': 10,\n",
       " 'p': 3,\n",
       " 'u': 5,\n",
       " 'l': 3,\n",
       " 'r': 6,\n",
       " 'g': 4,\n",
       " 'm': 3,\n",
       " 'e': 7,\n",
       " '.': 2,\n",
       " 'I': 2,\n",
       " 'w': 1,\n",
       " 'c': 1,\n",
       " 'd': 5,\n",
       " 'b': 1,\n",
       " 'G': 1,\n",
       " 'v': 1,\n",
       " 'R': 1,\n",
       " ',': 1,\n",
       " '1': 2,\n",
       " '9': 2,\n",
       " 'f': 1,\n",
       " ':': 1}"
      ]
     },
     "execution_count": 15,
     "metadata": {},
     "output_type": "execute_result"
    }
   ],
   "source": [
    "s = 'Python is a popular programming language. It was created by Guido van Rossum, and released in 1991. \\\n",
    "    It is used for:'\n",
    "\n",
    "letter_count = {}\n",
    "for char in s:\n",
    "    letter_count[char] = letter_count.get(char, 0) +1\n",
    "letter_count"
   ]
  },
  {
   "cell_type": "code",
   "execution_count": 25,
   "metadata": {},
   "outputs": [
    {
     "name": "stdout",
     "output_type": "stream",
     "text": [
      "('P', 'y', 't', 'h', 'o', 'n', ' ', 'i', 's', 'a', 'p', 'u', 'l', 'r', 'g', 'm', 'e', '.', 'I', 'w', 'c', 'd', 'b', 'G', 'v', 'R', ',', '1', '9', 'f', ':')\n",
      "(1, 2, 4, 1, 6, 6, 24, 5, 7, 10, 3, 5, 3, 6, 4, 3, 7, 2, 2, 1, 1, 5, 1, 1, 1, 1, 1, 2, 2, 1, 1)\n"
     ]
    }
   ],
   "source": [
    "import matplotlib.pyplot as plt\n",
    "%matplotlib inline\n",
    "x,y = zip(*letter_count.items())\n",
    "print(x)\n",
    "print(y)"
   ]
  },
  {
   "cell_type": "code",
   "execution_count": 26,
   "metadata": {},
   "outputs": [
    {
     "data": {
      "text/plain": [
       "<BarContainer object of 31 artists>"
      ]
     },
     "execution_count": 26,
     "metadata": {},
     "output_type": "execute_result"
    },
    {
     "data": {
      "image/png": "[encoded data removed]",
      "text/plain": [
       "<Figure size 432x288 with 1 Axes>"
      ]
     },
     "metadata": {
      "needs_background": "light"
     },
     "output_type": "display_data"
    }
   ],
   "source": [
    "plt.bar(x,y)"
   ]
  },
  {
   "cell_type": "markdown",
   "metadata": {},
   "source": [
    "### To remove the : symbol from dictionary:"
   ]
  },
  {
   "cell_type": "code",
   "execution_count": 27,
   "metadata": {},
   "outputs": [
    {
     "data": {
      "text/plain": [
       "<BarContainer object of 25 artists>"
      ]
     },
     "execution_count": 27,
     "metadata": {},
     "output_type": "execute_result"
    },
    {
     "data": {
      "image/png": "[encoded data removed]",
      "text/plain": [
       "<Figure size 432x288 with 1 Axes>"
      ]
     },
     "metadata": {
      "needs_background": "light"
     },
     "output_type": "display_data"
    }
   ],
   "source": [
    "letter_count_clean = {}\n",
    "\n",
    "for k, v in letter_count.items():\n",
    "    if k.isalpha():\n",
    "        letter_count_clean[k] = v\n",
    "x,y = zip(*letter_count_clean.items())\n",
    "plt.bar(x,y)"
   ]
  },
  {
   "cell_type": "code",
   "execution_count": 30,
   "metadata": {},
   "outputs": [
    {
     "data": {
      "text/plain": [
       "dict_items([('P', 1), ('y', 2), ('t', 4), ('h', 1), ('o', 6), ('n', 6), ('i', 5), ('s', 7), ('a', 10), ('p', 3), ('u', 5), ('l', 3), ('r', 6), ('g', 4), ('m', 3), ('e', 7), ('I', 2), ('w', 1), ('c', 1), ('d', 5), ('b', 1), ('G', 1), ('v', 1), ('R', 1), ('f', 1)])"
      ]
     },
     "execution_count": 30,
     "metadata": {},
     "output_type": "execute_result"
    }
   ],
   "source": [
    "letter_count_clean.items()"
   ]
  },
  {
   "cell_type": "code",
   "execution_count": 32,
   "metadata": {},
   "outputs": [
    {
     "name": "stdout",
     "output_type": "stream",
     "text": [
      "Python is very easy language.\n",
      "    It is fun to learn python.\n",
      "\n"
     ]
    }
   ],
   "source": [
    "sr = '''Python is very easy language.\n",
    "    It is fun to learn python.\n",
    "'''\n",
    "print(sr)"
   ]
  },
  {
   "cell_type": "code",
   "execution_count": 33,
   "metadata": {},
   "outputs": [],
   "source": [
    "new_word = sr.split(' ')"
   ]
  },
  {
   "cell_type": "code",
   "execution_count": 34,
   "metadata": {},
   "outputs": [
    {
     "data": {
      "text/plain": [
       "['Python',\n",
       " 'is',\n",
       " 'very',\n",
       " 'easy',\n",
       " 'language.\\n',\n",
       " '',\n",
       " '',\n",
       " '',\n",
       " 'It',\n",
       " 'is',\n",
       " 'fun',\n",
       " 'to',\n",
       " 'learn',\n",
       " 'python.\\n']"
      ]
     },
     "execution_count": 34,
     "metadata": {},
     "output_type": "execute_result"
    }
   ],
   "source": [
    "new_word"
   ]
  },
  {
   "cell_type": "code",
   "execution_count": 38,
   "metadata": {},
   "outputs": [],
   "source": [
    "for i in range(len(new_word)):\n",
    "    new_word[i] = new_word[i].strip('\\n')"
   ]
  },
  {
   "cell_type": "code",
   "execution_count": 39,
   "metadata": {},
   "outputs": [
    {
     "data": {
      "text/plain": [
       "['Python',\n",
       " 'is',\n",
       " 'very',\n",
       " 'easy',\n",
       " 'language.',\n",
       " '',\n",
       " '',\n",
       " '',\n",
       " 'It',\n",
       " 'is',\n",
       " 'fun',\n",
       " 'to',\n",
       " 'learn',\n",
       " 'python.']"
      ]
     },
     "execution_count": 39,
     "metadata": {},
     "output_type": "execute_result"
    }
   ],
   "source": [
    "new_word"
   ]
  },
  {
   "cell_type": "code",
   "execution_count": 42,
   "metadata": {},
   "outputs": [],
   "source": [
    "word = (' ').join(new_word)"
   ]
  },
  {
   "cell_type": "code",
   "execution_count": 43,
   "metadata": {},
   "outputs": [
    {
     "data": {
      "text/plain": [
       "'Python is very easy language.    It is fun to learn python.'"
      ]
     },
     "execution_count": 43,
     "metadata": {},
     "output_type": "execute_result"
    }
   ],
   "source": [
    "word"
   ]
  },
  {
   "cell_type": "markdown",
   "metadata": {},
   "source": [
    "## Counter function from 'COLLECTIONS' module.\n",
    "### It creates a dictionary of letter counts from a string.\n",
    "### Dictionary Comprehension is also possible"
   ]
  },
  {
   "cell_type": "code",
   "execution_count": 45,
   "metadata": {},
   "outputs": [],
   "source": [
    "from collections import Counter"
   ]
  },
  {
   "cell_type": "code",
   "execution_count": 46,
   "metadata": {},
   "outputs": [
    {
     "data": {
      "text/plain": [
       "'Python is very easy language.\\n    It is fun to learn python.\\n'"
      ]
     },
     "execution_count": 46,
     "metadata": {},
     "output_type": "execute_result"
    }
   ],
   "source": [
    "sr"
   ]
  },
  {
   "cell_type": "code",
   "execution_count": 47,
   "metadata": {},
   "outputs": [],
   "source": [
    "new_dict = Counter(s.lower())"
   ]
  },
  {
   "cell_type": "code",
   "execution_count": 48,
   "metadata": {},
   "outputs": [
    {
     "data": {
      "text/plain": [
       "Counter({'p': 4,\n",
       "         'y': 2,\n",
       "         't': 4,\n",
       "         'h': 1,\n",
       "         'o': 6,\n",
       "         'n': 6,\n",
       "         ' ': 24,\n",
       "         'i': 7,\n",
       "         's': 7,\n",
       "         'a': 10,\n",
       "         'u': 5,\n",
       "         'l': 3,\n",
       "         'r': 7,\n",
       "         'g': 5,\n",
       "         'm': 3,\n",
       "         'e': 7,\n",
       "         '.': 2,\n",
       "         'w': 1,\n",
       "         'c': 1,\n",
       "         'd': 5,\n",
       "         'b': 1,\n",
       "         'v': 1,\n",
       "         ',': 1,\n",
       "         '1': 2,\n",
       "         '9': 2,\n",
       "         'f': 1,\n",
       "         ':': 1})"
      ]
     },
     "execution_count": 48,
     "metadata": {},
     "output_type": "execute_result"
    }
   ],
   "source": [
    "new_dict"
   ]
  },
  {
   "cell_type": "markdown",
   "metadata": {},
   "source": [
    "# DICTIONARY COMPREHENSION"
   ]
  },
  {
   "cell_type": "code",
   "execution_count": 49,
   "metadata": {},
   "outputs": [],
   "source": [
    "new_dict = dict(new_dict)\n",
    "new_dict = {k:v for k,v in new_dict.items() if k.isalpha()}"
   ]
  },
  {
   "cell_type": "code",
   "execution_count": 50,
   "metadata": {},
   "outputs": [
    {
     "data": {
      "text/plain": [
       "{'p': 4,\n",
       " 'y': 2,\n",
       " 't': 4,\n",
       " 'h': 1,\n",
       " 'o': 6,\n",
       " 'n': 6,\n",
       " 'i': 7,\n",
       " 's': 7,\n",
       " 'a': 10,\n",
       " 'u': 5,\n",
       " 'l': 3,\n",
       " 'r': 7,\n",
       " 'g': 5,\n",
       " 'm': 3,\n",
       " 'e': 7,\n",
       " 'w': 1,\n",
       " 'c': 1,\n",
       " 'd': 5,\n",
       " 'b': 1,\n",
       " 'v': 1,\n",
       " 'f': 1}"
      ]
     },
     "execution_count": 50,
     "metadata": {},
     "output_type": "execute_result"
    }
   ],
   "source": [
    "new_dict"
   ]
  },
  {
   "cell_type": "markdown",
   "metadata": {},
   "source": [
    "## Ask the user to enter some letter. If that letter exist in the new_dict dictionary, then returns it's value to the user:"
   ]
  },
  {
   "cell_type": "code",
   "execution_count": 53,
   "metadata": {},
   "outputs": [
    {
     "name": "stdout",
     "output_type": "stream",
     "text": [
      "Enter some letter: D\n",
      "5\n"
     ]
    }
   ],
   "source": [
    "user_input = input('Enter some letter: ')\n",
    "user_input = user_input.lower()\n",
    "if user_input in new_dict:\n",
    "    print(new_dict[user_input])"
   ]
  },
  {
   "cell_type": "markdown",
   "metadata": {},
   "source": [
    "## Write a python code that will create a dictionary containing key, value pairs that represents the first 12 values of the fibonacci sequence\n",
    "## Example: {1: 0, 2: 1, 3: 1, 4: 2, 5: 3, 6: 5, 7: 8...}"
   ]
  },
  {
   "cell_type": "code",
   "execution_count": 54,
   "metadata": {},
   "outputs": [],
   "source": [
    "a = 0\n",
    "b = 1\n",
    "fib = []\n",
    "for i in range(1, 13):\n",
    "    fib.append(a)\n",
    "    a,b = b, a+b\n",
    "new_dict = {}\n",
    "for i, v in enumerate(fib):\n",
    "    new_dict[i+1] = v"
   ]
  },
  {
   "cell_type": "code",
   "execution_count": 55,
   "metadata": {},
   "outputs": [
    {
     "data": {
      "text/plain": [
       "{1: 0,\n",
       " 2: 1,\n",
       " 3: 1,\n",
       " 4: 2,\n",
       " 5: 3,\n",
       " 6: 5,\n",
       " 7: 8,\n",
       " 8: 13,\n",
       " 9: 21,\n",
       " 10: 34,\n",
       " 11: 55,\n",
       " 12: 89}"
      ]
     },
     "execution_count": 55,
     "metadata": {},
     "output_type": "execute_result"
    }
   ],
   "source": [
    "new_dict"
   ]
  },
  {
   "cell_type": "markdown",
   "metadata": {},
   "source": [
    "### Create a dictionary that represents the open, high, low, close share price data for 4 imaginary companies. 'Python DS', 'PythonSoft', 'Pythazon', 'Pybook'. The four sets of data are [12.87, 13.23, 11.42, 13.10], [23.54,  25.76, 21.87, 22.33], [98.99, 102.34, 97.21, 100.065], [203.63, 207.54, 202.43, 205.24]"
   ]
  },
  {
   "cell_type": "code",
   "execution_count": 57,
   "metadata": {},
   "outputs": [],
   "source": [
    "companies= ['Python DS', 'PythonSoft', 'Pythazon', 'Pybook']\n",
    "prices = [[12.87, 13.23, 11.42, 13.10], [23.54, 25.76, 21.87, 22.33], [98.99, 102.34, 97.21, 100.065], [203.63, 207.54, 202.43, 205.24]]"
   ]
  },
  {
   "cell_type": "code",
   "execution_count": 59,
   "metadata": {},
   "outputs": [
    {
     "data": {
      "text/plain": [
       "{'Python DS': {'open': 12.87, 'high': 13.23, 'low': 11.42, 'close': 13.1},\n",
       " 'PythonSoft': {'open': 23.54, 'high': 25.76, 'low': 21.87, 'close': 22.33},\n",
       " 'Pythazon': {'open': 98.99, 'high': 102.34, 'low': 97.21, 'close': 100.065},\n",
       " 'Pybook': {'open': 203.63, 'high': 207.54, 'low': 202.43, 'close': 205.24}}"
      ]
     },
     "execution_count": 59,
     "metadata": {},
     "output_type": "execute_result"
    }
   ],
   "source": [
    "share = ['open', 'high', 'low', 'close']\n",
    "new_dict = {}\n",
    "for i in range(len(companies)):\n",
    "    new_dict[companies[i]] = dict(zip(share, prices[i]))\n",
    "new_dict"
   ]
  },
  {
   "cell_type": "markdown",
   "metadata": {},
   "source": [
    "## Create a dictionary with keys as alphabets from A-Z and values as random integers from 1-100. Create a bar plot of the dictionary key, value pairs."
   ]
  },
  {
   "cell_type": "code",
   "execution_count": 60,
   "metadata": {},
   "outputs": [
    {
     "data": {
      "text/plain": [
       "<BarContainer object of 26 artists>"
      ]
     },
     "execution_count": 60,
     "metadata": {},
     "output_type": "execute_result"
    },
    {
     "data": {
      "image/png": "[encoded data removed]",
      "text/plain": [
       "<Figure size 432x288 with 1 Axes>"
      ]
     },
     "metadata": {
      "needs_background": "light"
     },
     "output_type": "display_data"
    }
   ],
   "source": [
    "import random\n",
    "alphab = 'ABCDEFGHIJKLMNOPQRSTUVWXYZ'\n",
    "new_dict = {}\n",
    "for i in alphab:\n",
    "    new_dict[i] = random.randint(1,100)\n",
    "x,y = zip(*new_dict.items())\n",
    "plt.bar(x,y)"
   ]
  },
  {
   "cell_type": "markdown",
   "metadata": {},
   "source": [
    "## Work with datetime module from python"
   ]
  },
  {
   "cell_type": "code",
   "execution_count": 61,
   "metadata": {},
   "outputs": [],
   "source": [
    "import datetime"
   ]
  },
  {
   "cell_type": "code",
   "execution_count": 64,
   "metadata": {},
   "outputs": [],
   "source": [
    "today = datetime.date.today()"
   ]
  },
  {
   "cell_type": "code",
   "execution_count": 66,
   "metadata": {},
   "outputs": [
    {
     "name": "stdout",
     "output_type": "stream",
     "text": [
      "Today's date is 2020-03-05\n"
     ]
    }
   ],
   "source": [
    "print(f'Today\\'s date is {today}')"
   ]
  },
  {
   "cell_type": "code",
   "execution_count": 68,
   "metadata": {},
   "outputs": [],
   "source": [
    "holiday = datetime.date(2020,4,12)"
   ]
  },
  {
   "cell_type": "code",
   "execution_count": 69,
   "metadata": {},
   "outputs": [],
   "source": [
    "delta = holiday - today"
   ]
  },
  {
   "cell_type": "code",
   "execution_count": 70,
   "metadata": {},
   "outputs": [
    {
     "data": {
      "text/plain": [
       "datetime.timedelta(days=38)"
      ]
     },
     "execution_count": 70,
     "metadata": {},
     "output_type": "execute_result"
    }
   ],
   "source": [
    "delta"
   ]
  },
  {
   "cell_type": "markdown",
   "metadata": {},
   "source": [
    "## Create a dictionary containing four suits of 13 cards = ['Ace', '2', '3', '4', '5', '6', '7', '8', '9', '10', 'Jack', 'Queen', 'King']"
   ]
  },
  {
   "cell_type": "code",
   "execution_count": 71,
   "metadata": {},
   "outputs": [
    {
     "data": {
      "text/plain": [
       "{'Spades': ['Ace',\n",
       "  '2',\n",
       "  '3',\n",
       "  '4',\n",
       "  '5',\n",
       "  '6',\n",
       "  '7',\n",
       "  '8',\n",
       "  '9',\n",
       "  '10',\n",
       "  'Jack',\n",
       "  'Queen',\n",
       "  'King'],\n",
       " 'Clubs': ['Ace',\n",
       "  '2',\n",
       "  '3',\n",
       "  '4',\n",
       "  '5',\n",
       "  '6',\n",
       "  '7',\n",
       "  '8',\n",
       "  '9',\n",
       "  '10',\n",
       "  'Jack',\n",
       "  'Queen',\n",
       "  'King'],\n",
       " 'Hearts': ['Ace',\n",
       "  '2',\n",
       "  '3',\n",
       "  '4',\n",
       "  '5',\n",
       "  '6',\n",
       "  '7',\n",
       "  '8',\n",
       "  '9',\n",
       "  '10',\n",
       "  'Jack',\n",
       "  'Queen',\n",
       "  'King'],\n",
       " 'Diamonds': ['Ace',\n",
       "  '2',\n",
       "  '3',\n",
       "  '4',\n",
       "  '5',\n",
       "  '6',\n",
       "  '7',\n",
       "  '8',\n",
       "  '9',\n",
       "  '10',\n",
       "  'Jack',\n",
       "  'Queen',\n",
       "  'King']}"
      ]
     },
     "execution_count": 71,
     "metadata": {},
     "output_type": "execute_result"
    }
   ],
   "source": [
    "suit = ['Spades', 'Clubs', 'Hearts', 'Diamonds']\n",
    "rank = ['Ace', '2', '3', '4', '5', '6', '7', '8', '9', '10', 'Jack', 'Queen', 'King']\n",
    "new_dict = dict()\n",
    "for i in suit:\n",
    "    new_dict[i] = rank\n",
    "new_dict"
   ]
  },
  {
   "cell_type": "markdown",
   "metadata": {},
   "source": [
    "## Creating a fibonacci function:"
   ]
  },
  {
   "cell_type": "code",
   "execution_count": 15,
   "metadata": {},
   "outputs": [
    {
     "data": {
      "text/plain": [
       "6765"
      ]
     },
     "execution_count": 15,
     "metadata": {},
     "output_type": "execute_result"
    }
   ],
   "source": [
    "def fib(n):\n",
    "    a = 0\n",
    "    b = 1\n",
    "    for i in range(n):\n",
    "        a,b = b, a+b\n",
    "    return a\n",
    "\n",
    "fib_num = fib(20)\n",
    "fib_num    "
   ]
  },
  {
   "cell_type": "code",
   "execution_count": 16,
   "metadata": {},
   "outputs": [
    {
     "name": "stdout",
     "output_type": "stream",
     "text": [
      "0\n",
      "1\n",
      "1\n",
      "2\n",
      "3\n",
      "5\n",
      "8\n",
      "13\n",
      "21\n",
      "34\n",
      "55\n",
      "89\n",
      "144\n",
      "233\n",
      "377\n",
      "610\n",
      "987\n",
      "1597\n",
      "2584\n",
      "4181\n"
     ]
    }
   ],
   "source": [
    "n= 20\n",
    "for i in range(n):\n",
    "    print(fib(i))"
   ]
  },
  {
   "cell_type": "markdown",
   "metadata": {},
   "source": [
    "## Fibonacci function BY RECURSION"
   ]
  },
  {
   "cell_type": "code",
   "execution_count": 17,
   "metadata": {},
   "outputs": [
    {
     "data": {
      "text/plain": [
       "1"
      ]
     },
     "execution_count": 17,
     "metadata": {},
     "output_type": "execute_result"
    }
   ],
   "source": [
    "def fib_2(n):\n",
    "    if n == 0:\n",
    "        return 0\n",
    "    elif n == 1:\n",
    "        return 1\n",
    "    else:\n",
    "        return fib(n-1) + fib(n-2)\n",
    "\n",
    "fib(2)    "
   ]
  },
  {
   "cell_type": "code",
   "execution_count": 18,
   "metadata": {},
   "outputs": [
    {
     "data": {
      "text/plain": [
       "5"
      ]
     },
     "execution_count": 18,
     "metadata": {},
     "output_type": "execute_result"
    }
   ],
   "source": [
    "fib(5)"
   ]
  },
  {
   "cell_type": "code",
   "execution_count": 20,
   "metadata": {},
   "outputs": [
    {
     "ename": "ModuleNotFoundError",
     "evalue": "No module named 'greetings'",
     "output_type": "error",
     "traceback": [
      "\u001b[1;31m---------------------------------------------------------------------------\u001b[0m",
      "\u001b[1;31mModuleNotFoundError\u001b[0m                       Traceback (most recent call last)",
      "\u001b[1;32m<ipython-input-20-fe6c5abe0ddd>\u001b[0m in \u001b[0;36m<module>\u001b[1;34m\u001b[0m\n\u001b[1;32m----> 1\u001b[1;33m \u001b[1;32mimport\u001b[0m \u001b[0mgreetings\u001b[0m\u001b[1;33m.\u001b[0m\u001b[0mipynb\u001b[0m\u001b[1;33m\u001b[0m\u001b[1;33m\u001b[0m\u001b[0m\n\u001b[0m",
      "\u001b[1;31mModuleNotFoundError\u001b[0m: No module named 'greetings'"
     ]
    }
   ],
   "source": [
    "import greetings.ipynb"
   ]
  },
  {
   "cell_type": "code",
   "execution_count": 12,
   "metadata": {},
   "outputs": [
    {
     "ename": "ModuleNotFoundError",
     "evalue": "No module named 'greetings'",
     "output_type": "error",
     "traceback": [
      "\u001b[1;31m---------------------------------------------------------------------------\u001b[0m",
      "\u001b[1;31mModuleNotFoundError\u001b[0m                       Traceback (most recent call last)",
      "\u001b[1;32m<ipython-input-12-3b3d2c3f9f8f>\u001b[0m in \u001b[0;36m<module>\u001b[1;34m\u001b[0m\n\u001b[0;32m      1\u001b[0m \u001b[1;32mimport\u001b[0m \u001b[0mtimeit\u001b[0m\u001b[1;33m\u001b[0m\u001b[1;33m\u001b[0m\u001b[0m\n\u001b[0;32m      2\u001b[0m \u001b[0mt1\u001b[0m \u001b[1;33m=\u001b[0m \u001b[0mtimeit\u001b[0m\u001b[1;33m.\u001b[0m\u001b[0mTimer\u001b[0m\u001b[1;33m(\u001b[0m\u001b[1;34m\"fib(36)\"\u001b[0m\u001b[1;33m,\u001b[0m \u001b[1;34m\"from greetings import fib\"\u001b[0m\u001b[1;33m)\u001b[0m\u001b[1;33m\u001b[0m\u001b[1;33m\u001b[0m\u001b[0m\n\u001b[1;32m----> 3\u001b[1;33m \u001b[0mprint\u001b[0m\u001b[1;33m(\u001b[0m\u001b[0mt1\u001b[0m\u001b[1;33m.\u001b[0m\u001b[0mtimeit\u001b[0m\u001b[1;33m(\u001b[0m\u001b[1;36m5\u001b[0m\u001b[1;33m)\u001b[0m\u001b[1;33m)\u001b[0m\u001b[1;33m\u001b[0m\u001b[1;33m\u001b[0m\u001b[0m\n\u001b[0m",
      "\u001b[1;32m~\\Anaconda3\\lib\\timeit.py\u001b[0m in \u001b[0;36mtimeit\u001b[1;34m(self, number)\u001b[0m\n\u001b[0;32m    174\u001b[0m         \u001b[0mgc\u001b[0m\u001b[1;33m.\u001b[0m\u001b[0mdisable\u001b[0m\u001b[1;33m(\u001b[0m\u001b[1;33m)\u001b[0m\u001b[1;33m\u001b[0m\u001b[1;33m\u001b[0m\u001b[0m\n\u001b[0;32m    175\u001b[0m         \u001b[1;32mtry\u001b[0m\u001b[1;33m:\u001b[0m\u001b[1;33m\u001b[0m\u001b[1;33m\u001b[0m\u001b[0m\n\u001b[1;32m--> 176\u001b[1;33m             \u001b[0mtiming\u001b[0m \u001b[1;33m=\u001b[0m \u001b[0mself\u001b[0m\u001b[1;33m.\u001b[0m\u001b[0minner\u001b[0m\u001b[1;33m(\u001b[0m\u001b[0mit\u001b[0m\u001b[1;33m,\u001b[0m \u001b[0mself\u001b[0m\u001b[1;33m.\u001b[0m\u001b[0mtimer\u001b[0m\u001b[1;33m)\u001b[0m\u001b[1;33m\u001b[0m\u001b[1;33m\u001b[0m\u001b[0m\n\u001b[0m\u001b[0;32m    177\u001b[0m         \u001b[1;32mfinally\u001b[0m\u001b[1;33m:\u001b[0m\u001b[1;33m\u001b[0m\u001b[1;33m\u001b[0m\u001b[0m\n\u001b[0;32m    178\u001b[0m             \u001b[1;32mif\u001b[0m \u001b[0mgcold\u001b[0m\u001b[1;33m:\u001b[0m\u001b[1;33m\u001b[0m\u001b[1;33m\u001b[0m\u001b[0m\n",
      "\u001b[1;32m~\\Anaconda3\\lib\\timeit.py\u001b[0m in \u001b[0;36minner\u001b[1;34m(_it, _timer)\u001b[0m\n",
      "\u001b[1;31mModuleNotFoundError\u001b[0m: No module named 'greetings'"
     ]
    }
   ],
   "source": [
    "import timeit\n",
    "t1 = timeit.Timer(\"fib(36)\", \"from greetings import fib\")\n",
    "print(t1.timeit(5))"
   ]
  },
  {
   "cell_type": "markdown",
   "metadata": {},
   "source": [
    "## Write a function that will copy the contents of one file to a new file:"
   ]
  },
  {
   "cell_type": "code",
   "execution_count": 21,
   "metadata": {},
   "outputs": [],
   "source": [
    "def copy_file(infile, outfile):\n",
    "    with open(infile, 'r') as file:\n",
    "        with open(outfile, 'w') as file1:\n",
    "            file1.write(file.read())\n",
    "copy_file('capital.txt', 'new_capital.txt')"
   ]
  },
  {
   "cell_type": "markdown",
   "metadata": {},
   "source": [
    "## Ask the user to input a city and then append that city to file capital.txt"
   ]
  },
  {
   "cell_type": "code",
   "execution_count": 22,
   "metadata": {},
   "outputs": [
    {
     "name": "stdout",
     "output_type": "stream",
     "text": [
      "Enter a city: Toronto\n"
     ]
    }
   ],
   "source": [
    "user_input = input('Enter a city: ')\n",
    "f = open('capital.txt', 'a')\n",
    "f.write('\\n' + user_input)\n",
    "f.close()"
   ]
  },
  {
   "cell_type": "markdown",
   "metadata": {},
   "source": [
    "# Classes"
   ]
  },
  {
   "cell_type": "code",
   "execution_count": 24,
   "metadata": {},
   "outputs": [
    {
     "name": "stdout",
     "output_type": "stream",
     "text": [
      "Patient Record: Steve Hughes, 35 years Current information: ['Patient is diagnosed with ear infection- Amoxycilin prescribed']\n"
     ]
    }
   ],
   "source": [
    "class Patient():\n",
    "    '''Medical Center Patient'''\n",
    "    status = 'Patient'\n",
    "    def __init__(self,name,age):\n",
    "        self.name= name\n",
    "        self.age = age\n",
    "        self.condition = []\n",
    "    def get_details(self):\n",
    "        print(f'Patient Record: {self.name}, {self.age} years '\\\n",
    "             f'Current information: {self.condition}')\n",
    "    def add_info(self, information):\n",
    "        self.condition.append(information)\n",
    "        \n",
    "steve = Patient('Steve Hughes', 35)\n",
    "steve.add_info('Patient is diagnosed with ear infection- Amoxycilin prescribed')\n",
    "steve.get_details()"
   ]
  },
  {
   "cell_type": "markdown",
   "metadata": {},
   "source": [
    "# Inheritance"
   ]
  },
  {
   "cell_type": "code",
   "execution_count": 29,
   "metadata": {},
   "outputs": [
    {
     "name": "stdout",
     "output_type": "stream",
     "text": [
      "Patient Record: Archie Thomson, 0 years Current information: ['Archie is an Infant'] The vaccine given is: ['MMR']\n"
     ]
    }
   ],
   "source": [
    "class Infant(Patient):\n",
    "    def __init__(self,name,age):\n",
    "        self.vaccination = []\n",
    "        super().__init__(name,age)\n",
    "    def add_vac(self, vaccine):\n",
    "        self.vaccination.append(vaccine)\n",
    "    def get_details(self):\n",
    "        print(f'Patient Record: {self.name}, {self.age} years '\\\n",
    "             f'Current information: {self.condition} '\\\n",
    "             f'The vaccine given is: {self.vaccination}')\n",
    "archie = Infant('Archie Thomson', 0)\n",
    "archie.add_vac('MMR')\n",
    "archie.add_info('Archie is an Infant')\n",
    "archie.get_details()"
   ]
  },
  {
   "cell_type": "markdown",
   "metadata": {},
   "source": [
    "# BANK ACCOUNT QUESTION\n",
    "#### Create a class to represent a bank account. It will need to have a balance, a method of withdrawing money, depositing money and displaying the balance to the screen. Create an instance of the bank account and check if the methods work as expected."
   ]
  },
  {
   "cell_type": "code",
   "execution_count": 52,
   "metadata": {},
   "outputs": [],
   "source": [
    "class BankAccount(object):\n",
    "    def __init__(self,balance=0.0):\n",
    "        self.balance = balance\n",
    "    def display_balance(self):\n",
    "        print(f'Your balance is {self.balance}')\n",
    "    def add_deposit(self):\n",
    "        amount = input('Enter amount to deposit: ')\n",
    "        self.balance += int(amount)\n",
    "        print(f'Your new balance is {self.balance}')\n",
    "    def withdraw(self):\n",
    "        amount = eval(input('Enter amount to withdraw: '))\n",
    "        if amount > self.balance:\n",
    "            print('Sorry Insuffient funds')\n",
    "            amount = eval(input('Enter amount to withdraw: '))\n",
    "        self.balance -= amount\n",
    "        print(f'Withdrawal successful, the new balance is {self.balance}')"
   ]
  },
  {
   "cell_type": "code",
   "execution_count": 53,
   "metadata": {},
   "outputs": [],
   "source": [
    "john = BankAccount(69000)"
   ]
  },
  {
   "cell_type": "code",
   "execution_count": 54,
   "metadata": {},
   "outputs": [
    {
     "name": "stdout",
     "output_type": "stream",
     "text": [
      "Your balance is 69000\n"
     ]
    }
   ],
   "source": [
    "john.display_balance()"
   ]
  },
  {
   "cell_type": "code",
   "execution_count": 55,
   "metadata": {},
   "outputs": [
    {
     "name": "stdout",
     "output_type": "stream",
     "text": [
      "Enter amount to deposit: 100000\n",
      "Your new balance is 169000\n"
     ]
    }
   ],
   "source": [
    "john.add_deposit()"
   ]
  },
  {
   "cell_type": "code",
   "execution_count": 56,
   "metadata": {},
   "outputs": [
    {
     "name": "stdout",
     "output_type": "stream",
     "text": [
      "Enter amount to withdraw: 5000\n",
      "Withdrawal successful, the new balance is 164000\n"
     ]
    }
   ],
   "source": [
    "john.withdraw()"
   ]
  },
  {
   "cell_type": "code",
   "execution_count": 57,
   "metadata": {},
   "outputs": [],
   "source": [
    "archie = BankAccount()"
   ]
  },
  {
   "cell_type": "code",
   "execution_count": 58,
   "metadata": {},
   "outputs": [
    {
     "name": "stdout",
     "output_type": "stream",
     "text": [
      "Your balance is 0.0\n"
     ]
    }
   ],
   "source": [
    "archie.display_balance()"
   ]
  },
  {
   "cell_type": "code",
   "execution_count": 59,
   "metadata": {},
   "outputs": [
    {
     "name": "stdout",
     "output_type": "stream",
     "text": [
      "Your balance is 164000\n"
     ]
    }
   ],
   "source": [
    "john.display_balance()"
   ]
  },
  {
   "cell_type": "code",
   "execution_count": null,
   "metadata": {},
   "outputs": [],
   "source": []
  }
 ],
 "metadata": {
  "kernelspec": {
   "display_name": "Python 3",
   "language": "python",
   "name": "python3"
  },
  "language_info": {
   "codemirror_mode": {
    "name": "ipython",
    "version": 3
   },
   "file_extension": ".py",
   "mimetype": "text/x-python",
   "name": "python",
   "nbconvert_exporter": "python",
   "pygments_lexer": "ipython3",
   "version": "3.7.4"
  }
 },
 "nbformat": 4,
 "nbformat_minor": 2
}
