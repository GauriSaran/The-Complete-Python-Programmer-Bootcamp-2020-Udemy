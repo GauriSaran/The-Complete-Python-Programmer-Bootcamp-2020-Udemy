{
 "cells": [
  {
   "cell_type": "code",
   "execution_count": 1,
   "metadata": {},
   "outputs": [],
   "source": [
    "my_list = [2,5,8,5,6,'eight']"
   ]
  },
  {
   "cell_type": "code",
   "execution_count": 2,
   "metadata": {},
   "outputs": [],
   "source": [
    "import pdb\n",
    "def add(L):\n",
    "    size = len(L)\n",
    "    total = 0\n",
    "    itterator = 0\n",
    "    pdb.set_trace()\n",
    "    while itterator < size:\n",
    "        total += L[itterator]\n",
    "        itterator +=1\n",
    "    return total\n",
    "        "
   ]
  },
  {
   "cell_type": "code",
   "execution_count": 3,
   "metadata": {},
   "outputs": [
    {
     "name": "stdout",
     "output_type": "stream",
     "text": [
      "> <ipython-input-2-5769623264d3>(7)add()\n",
      "-> while itterator < size:\n",
      "(Pdb) itterator\n",
      "0\n",
      "(Pdb) total\n",
      "0\n",
      "(Pdb) n\n",
      "> <ipython-input-2-5769623264d3>(8)add()\n",
      "-> total += L[itterator]\n",
      "(Pdb) n\n",
      "> <ipython-input-2-5769623264d3>(9)add()\n",
      "-> itterator +=1\n",
      "(Pdb) itterator\n",
      "0\n",
      "(Pdb) total\n",
      "2\n",
      "(Pdb) n\n",
      "> <ipython-input-2-5769623264d3>(7)add()\n",
      "-> while itterator < size:\n",
      "(Pdb) n\n",
      "> <ipython-input-2-5769623264d3>(8)add()\n",
      "-> total += L[itterator]\n",
      "(Pdb) total\n",
      "2\n",
      "(Pdb) itterator\n",
      "1\n",
      "(Pdb) n\n",
      "> <ipython-input-2-5769623264d3>(9)add()\n",
      "-> itterator +=1\n",
      "(Pdb) n\n",
      "> <ipython-input-2-5769623264d3>(7)add()\n",
      "-> while itterator < size:\n",
      "(Pdb) itterator\n",
      "2\n",
      "(Pdb) total\n",
      "7\n",
      "(Pdb) n\n",
      "> <ipython-input-2-5769623264d3>(8)add()\n",
      "-> total += L[itterator]\n",
      "(Pdb) n\n",
      "> <ipython-input-2-5769623264d3>(9)add()\n",
      "-> itterator +=1\n",
      "(Pdb) n\n",
      "> <ipython-input-2-5769623264d3>(7)add()\n",
      "-> while itterator < size:\n",
      "(Pdb) itterator\n",
      "3\n",
      "(Pdb) total\n",
      "15\n",
      "(Pdb) n\n",
      "> <ipython-input-2-5769623264d3>(8)add()\n",
      "-> total += L[itterator]\n",
      "(Pdb) n\n",
      "> <ipython-input-2-5769623264d3>(9)add()\n",
      "-> itterator +=1\n",
      "(Pdb) itterator\n",
      "3\n",
      "(Pdb) total\n",
      "20\n",
      "(Pdb) n\n",
      "> <ipython-input-2-5769623264d3>(7)add()\n",
      "-> while itterator < size:\n",
      "(Pdb) itterator\n",
      "4\n",
      "(Pdb) n\n",
      "> <ipython-input-2-5769623264d3>(8)add()\n",
      "-> total += L[itterator]\n",
      "(Pdb) itterator\n",
      "4\n",
      "(Pdb) total\n",
      "20\n",
      "(Pdb) n\n",
      "> <ipython-input-2-5769623264d3>(9)add()\n",
      "-> itterator +=1\n",
      "(Pdb) total\n",
      "26\n",
      "(Pdb) n\n",
      "> <ipython-input-2-5769623264d3>(7)add()\n",
      "-> while itterator < size:\n",
      "(Pdb) itterator\n",
      "5\n",
      "(Pdb) L\n",
      "[2, 5, 8, 5, 6, 'eight']\n",
      "(Pdb) L[-1] = 8\n",
      "(Pdb) L\n",
      "[2, 5, 8, 5, 6, 8]\n",
      "(Pdb) n\n",
      "> <ipython-input-2-5769623264d3>(8)add()\n",
      "-> total += L[itterator]\n",
      "(Pdb) n\n",
      "> <ipython-input-2-5769623264d3>(9)add()\n",
      "-> itterator +=1\n",
      "(Pdb) total\n",
      "34\n",
      "(Pdb) n\n",
      "> <ipython-input-2-5769623264d3>(7)add()\n",
      "-> while itterator < size:\n",
      "(Pdb) itterator\n",
      "6\n",
      "(Pdb) \n",
      "6\n",
      "(Pdb) n\n",
      "> <ipython-input-2-5769623264d3>(10)add()\n",
      "-> return total\n",
      "(Pdb) n\n",
      "--Return--\n",
      "> <ipython-input-2-5769623264d3>(10)add()->34\n",
      "-> return total\n",
      "(Pdb) c\n"
     ]
    },
    {
     "data": {
      "text/plain": [
       "34"
      ]
     },
     "execution_count": 3,
     "metadata": {},
     "output_type": "execute_result"
    }
   ],
   "source": [
    "add(my_list)"
   ]
  },
  {
   "cell_type": "code",
   "execution_count": null,
   "metadata": {},
   "outputs": [],
   "source": []
  }
 ],
 "metadata": {
  "kernelspec": {
   "display_name": "Python 3",
   "language": "python",
   "name": "python3"
  },
  "language_info": {
   "codemirror_mode": {
    "name": "ipython",
    "version": 3
   },
   "file_extension": ".py",
   "mimetype": "text/x-python",
   "name": "python",
   "nbconvert_exporter": "python",
   "pygments_lexer": "ipython3",
   "version": "3.7.4"
  }
 },
 "nbformat": 4,
 "nbformat_minor": 2
}
